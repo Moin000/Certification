{
  "nbformat": 4,
  "nbformat_minor": 0,
  "metadata": {
    "colab": {
      "provenance": [],
      "authorship_tag": "ABX9TyOI1vvzBf77PO/tREayndxy",
      "include_colab_link": true
    },
    "kernelspec": {
      "name": "python3",
      "display_name": "Python 3"
    },
    "language_info": {
      "name": "python"
    }
  },
  "cells": [
    {
      "cell_type": "markdown",
      "metadata": {
        "id": "view-in-github",
        "colab_type": "text"
      },
      "source": [
        "<a href=\"https://colab.research.google.com/github/Moin000/Certification/blob/master/Push_CSV_file_into_S3_bucket_using_Access_%26_Secret_key_in_Python.ipynb\" target=\"_parent\"><img src=\"https://colab.research.google.com/assets/colab-badge.svg\" alt=\"Open In Colab\"/></a>"
      ]
    },
    {
      "cell_type": "code",
      "source": [
        "import boto3\n",
        "import yaml\n",
        "\n",
        "with open('aws_credentials.yml', 'r') as file:\n",
        "\n",
        "    aws_credentials = yaml.safe_load(file)\n",
        "\n",
        "# Extract credentials from YAML\n",
        "aws_access_key_id = aws_credentials['aws_access_key_id']\n",
        "aws_secret_access_key = aws_credentials['aws_secret_access_key']\n",
        "aws_region_name = aws_credentials['aws_region_name']\n",
        "\n",
        "# Initialize a session using AWS credentials\n",
        "session = boto3.Session(\n",
        "    aws_access_key_id=aws_access_key_id,\n",
        "    aws_secret_access_key=aws_secret_access_key,\n",
        "    region_name=aws_region_name\n",
        ")\n",
        "\n",
        "#Update the below variables values with your details\n",
        "file_name = 'customer_change_data.csv'\n",
        "bucket_name = 'python.push'\n",
        "folder_name = '123'\n",
        "\n",
        "# Create an S3 client\n",
        "s3_client = session.client('s3')\n",
        "\n",
        "try:\n",
        "    # Upload file in S3\n",
        "    s3_client.upload_file(\n",
        "    Filename =file_name,\n",
        "    Bucket=bucket_name,\n",
        "    Key=folder_name + '/' + file_name\n",
        "    )\n",
        "    print(file_name + \" is uploaded sucessfully\")\n",
        "except Exception as e:\n",
        "        print(f\"An error occurred: {e}\")"
      ],
      "metadata": {
        "colab": {
          "base_uri": "https://localhost:8080/"
        },
        "id": "E9qiukEwxhYX",
        "outputId": "2556cd89-1228-4a24-a053-18a70c110e1f"
      },
      "execution_count": 7,
      "outputs": [
        {
          "output_type": "stream",
          "name": "stdout",
          "text": [
            "customer_change_data.csv is uploaded sucessfully\n"
          ]
        }
      ]
    }
  ]
}